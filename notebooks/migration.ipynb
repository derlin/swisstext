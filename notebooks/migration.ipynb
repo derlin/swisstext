{
 "cells": [
  {
   "cell_type": "markdown",
   "metadata": {},
   "source": [
    "This is the script used to migrate to the updated database version using hashes for URL keys.\n",
    "\n",
    "Changes:\n",
    "\n",
    "* `urls` and `blacklist` collection: `_id` renamed to `url`, `_id` set to `str(CityHash64(url))`;\n",
    "* `texts` collection: the list of `urls` references the url hashes."
   ]
  },
  {
   "cell_type": "code",
   "execution_count": 1,
   "metadata": {},
   "outputs": [],
   "source": [
    "from pymongo import MongoClient\n",
    "from cityhash import CityHash64"
   ]
  },
  {
   "cell_type": "code",
   "execution_count": 2,
   "metadata": {},
   "outputs": [],
   "source": [
    "DB_FROM_NAME = 'swisstext-bert-torch-3'\n",
    "DB_TO_NAME = 'sbt-3'"
   ]
  },
  {
   "cell_type": "code",
   "execution_count": 3,
   "metadata": {},
   "outputs": [],
   "source": [
    "client = MongoClient()\n",
    "db_from = client[DB_FROM_NAME]\n",
    "db_to = client[DB_TO_NAME]"
   ]
  },
  {
   "cell_type": "markdown",
   "metadata": {},
   "source": [
    "Show what collections we have in the old one:"
   ]
  },
  {
   "cell_type": "code",
   "execution_count": 4,
   "metadata": {},
   "outputs": [
    {
     "data": {
      "text/plain": [
       "['blacklist', 'texts', 'urls', 'sentences', 'users']"
      ]
     },
     "execution_count": 4,
     "metadata": {},
     "output_type": "execute_result"
    }
   ],
   "source": [
    "db_from.list_collection_names()"
   ]
  },
  {
   "cell_type": "markdown",
   "metadata": {},
   "source": [
    "Ensure the target database is empty:"
   ]
  },
  {
   "cell_type": "code",
   "execution_count": 5,
   "metadata": {},
   "outputs": [],
   "source": [
    "client.drop_database(DB_TO_NAME)"
   ]
  },
  {
   "cell_type": "markdown",
   "metadata": {},
   "source": [
    "# Generic migration code"
   ]
  },
  {
   "cell_type": "code",
   "execution_count": 6,
   "metadata": {},
   "outputs": [],
   "source": [
    "def _as_batch(cursor, batch_size=1000):\n",
    "    # iterate over something (pymongo cursor, generator, ...) by batch. \n",
    "    # Note: the last batch may contain less than batch_size elements.\n",
    "    batch = []\n",
    "    try:\n",
    "        while True:\n",
    "            for _ in range(batch_size):\n",
    "                batch.append(next(cursor))\n",
    "            yield batch\n",
    "            batch = []\n",
    "    except StopIteration as e:\n",
    "        if len(batch):\n",
    "            yield batch"
   ]
  },
  {
   "cell_type": "code",
   "execution_count": 7,
   "metadata": {},
   "outputs": [
    {
     "data": {
      "text/plain": [
       "736448"
      ]
     },
     "execution_count": 7,
     "metadata": {},
     "output_type": "execute_result"
    }
   ],
   "source": [
    "sum(map(len, _as_batch(db_from.urls.find())))"
   ]
  },
  {
   "cell_type": "code",
   "execution_count": 8,
   "metadata": {},
   "outputs": [],
   "source": [
    "def migrate(dbf, dbt, coll, update_func):\n",
    "    errors, added = [], []\n",
    "\n",
    "    query = (update_func(doc) for doc in db_from[coll].find())\n",
    "    for batch in _as_batch(query):\n",
    "        res = db_to[coll].insert_many(batch)\n",
    "        if not res.acknowledged:\n",
    "            errors.append((batch.copy(), res))\n",
    "        else:\n",
    "            added += res.inserted_ids \n",
    "        \n",
    "    print(f'Done. Inserted {len(added)} records. {len(errors)} errors.')\n",
    "    \n",
    "    return added, errors"
   ]
  },
  {
   "cell_type": "raw",
   "metadata": {},
   "source": [
    "def migrate(dbf, dbt, coll, update_func, bulk_size=20):\n",
    "    errors, added = [], []\n",
    "    records = []\n",
    "    \n",
    "    def _insert():\n",
    "        nonlocal records, added, errors\n",
    "        res = db_to[coll].insert_many(records)\n",
    "        if not res.acknowledged:\n",
    "            errors.append((records.copy(), res))\n",
    "        else:\n",
    "            added += res.inserted_ids \n",
    "        records = []\n",
    "\n",
    "    for rec in db_from[coll].find():\n",
    "        rec = update_func(rec)\n",
    "        records.append(rec)\n",
    "        if len(records) > bulk_size:\n",
    "            _insert()\n",
    "            \n",
    "    if len(records): \n",
    "        _insert()\n",
    "    \n",
    "    print(f'Done. Inserted {len(added)} records. {len(errors)} errors.')\n",
    "    if \n",
    "    \n",
    "    return added, errors"
   ]
  },
  {
   "cell_type": "markdown",
   "metadata": {},
   "source": [
    "# Migrate URLs & Blacklist"
   ]
  },
  {
   "cell_type": "code",
   "execution_count": 9,
   "metadata": {},
   "outputs": [],
   "source": [
    "def update_url(mu):\n",
    "    mu['url'] = mu['_id']\n",
    "    mu['_id'] = str(CityHash64(mu['url']))\n",
    "    return mu"
   ]
  },
  {
   "cell_type": "markdown",
   "metadata": {},
   "source": [
    "Test the thing: "
   ]
  },
  {
   "cell_type": "code",
   "execution_count": 10,
   "metadata": {},
   "outputs": [
    {
     "name": "stdout",
     "output_type": "stream",
     "text": [
      "BEFORE:\n"
     ]
    },
    {
     "data": {
      "text/plain": [
       "{'_id': 'http:// http://www.blick.ch/news/schweiz/die-kranke-welt-einer-paedophilen-mutter-ich-will-ein-kind-von-meinem-sohn-id5382410.html',\n",
       " 'source': {'type': 'auto',\n",
       "  'extra': 'http://www.fcbforum.ch/forum/printthread.php?t=1826&s=6570525eab34ea13c7ef63938a17e028&pp=30&page=306'},\n",
       " 'date_added': datetime.datetime(2019, 8, 22, 2, 27, 32, 687000),\n",
       " 'crawl_history': [],\n",
       " 'count': 0,\n",
       " 'delta': 0}"
      ]
     },
     "metadata": {},
     "output_type": "display_data"
    },
    {
     "name": "stdout",
     "output_type": "stream",
     "text": [
      "\n",
      "AFTER:\n"
     ]
    },
    {
     "data": {
      "text/plain": [
       "{'_id': '16808089807074681085',\n",
       " 'source': {'type': 'auto',\n",
       "  'extra': 'http://www.fcbforum.ch/forum/printthread.php?t=1826&s=6570525eab34ea13c7ef63938a17e028&pp=30&page=306'},\n",
       " 'date_added': datetime.datetime(2019, 8, 22, 2, 27, 32, 687000),\n",
       " 'crawl_history': [],\n",
       " 'count': 0,\n",
       " 'delta': 0,\n",
       " 'url': 'http:// http://www.blick.ch/news/schweiz/die-kranke-welt-einer-paedophilen-mutter-ich-will-ein-kind-von-meinem-sohn-id5382410.html'}"
      ]
     },
     "metadata": {},
     "output_type": "display_data"
    }
   ],
   "source": [
    "mu = db_from.urls.find_one()\n",
    "print('BEFORE:')\n",
    "display(mu)\n",
    "print('\\nAFTER:')\n",
    "display(update_url(mu))"
   ]
  },
  {
   "cell_type": "markdown",
   "metadata": {},
   "source": [
    "Let's do it"
   ]
  },
  {
   "cell_type": "code",
   "execution_count": 11,
   "metadata": {},
   "outputs": [
    {
     "name": "stdout",
     "output_type": "stream",
     "text": [
      "Done. Inserted 736448 records. 0 errors.\n",
      "CPU times: user 13.9 s, sys: 526 ms, total: 14.4 s\n",
      "Wall time: 19.8 s\n"
     ]
    }
   ],
   "source": [
    "%%time\n",
    "\n",
    "added, errors = migrate(db_from, db_to, 'urls', update_url)"
   ]
  },
  {
   "cell_type": "code",
   "execution_count": 12,
   "metadata": {},
   "outputs": [
    {
     "name": "stdout",
     "output_type": "stream",
     "text": [
      "Done. Inserted 438227 records. 0 errors.\n",
      "CPU times: user 5.86 s, sys: 153 ms, total: 6.01 s\n",
      "Wall time: 8.88 s\n"
     ]
    }
   ],
   "source": [
    "%%time\n",
    "\n",
    "added, errors = migrate(db_from, db_to, 'blacklist', update_url)"
   ]
  },
  {
   "cell_type": "markdown",
   "metadata": {},
   "source": [
    "# Update texts"
   ]
  },
  {
   "cell_type": "code",
   "execution_count": 13,
   "metadata": {},
   "outputs": [],
   "source": [
    "def update_text(mt):\n",
    "    mt['urls'] = [str(CityHash64(u)) for u in mt['urls']]\n",
    "    return mt"
   ]
  },
  {
   "cell_type": "markdown",
   "metadata": {},
   "source": [
    "Little test:"
   ]
  },
  {
   "cell_type": "code",
   "execution_count": 14,
   "metadata": {},
   "outputs": [
    {
     "name": "stdout",
     "output_type": "stream",
     "text": [
      "BEFORE:\n"
     ]
    },
    {
     "data": {
      "text/plain": [
       "{'_id': '100005168160950565666749032805777073165',\n",
       " 'urls': ['http://www.dieaagfraessene.ch/home/kaeller',\n",
       "  'http://www.dieaagfraessene.ch/home/kaeller/44--der-cliquekaeller-vo-den-aagfraessene?tmpl=component&print=1&layout=default'],\n",
       " 'date_added': datetime.datetime(2019, 8, 5, 15, 30, 35, 114000)}"
      ]
     },
     "metadata": {},
     "output_type": "display_data"
    },
    {
     "name": "stdout",
     "output_type": "stream",
     "text": [
      "\n",
      "AFTER:\n"
     ]
    },
    {
     "data": {
      "text/plain": [
       "{'_id': '100005168160950565666749032805777073165',\n",
       " 'urls': ['8599729855727934335', '12249908619951370833'],\n",
       " 'date_added': datetime.datetime(2019, 8, 5, 15, 30, 35, 114000)}"
      ]
     },
     "metadata": {},
     "output_type": "display_data"
    },
    {
     "name": "stdout",
     "output_type": "stream",
     "text": [
      "\n",
      "URL in the new database?\n"
     ]
    },
    {
     "data": {
      "text/plain": [
       "{'_id': '8599729855727934335',\n",
       " 'source': {'type': 'auto',\n",
       "  'extra': 'http://www.dieaagfraessene.ch/index.php'},\n",
       " 'date_added': datetime.datetime(2019, 8, 5, 15, 30, 35, 115000),\n",
       " 'crawl_history': [{'date': datetime.datetime(2019, 8, 5, 15, 30, 35, 115000),\n",
       "   'count': 4,\n",
       "   'hash': '100005168160950565666749032805777073165'}],\n",
       " 'count': 4,\n",
       " 'delta': 4,\n",
       " 'delta_date': datetime.datetime(2019, 8, 5, 15, 30, 35, 115000),\n",
       " 'url': 'http://www.dieaagfraessene.ch/home/kaeller'}"
      ]
     },
     "metadata": {},
     "output_type": "display_data"
    }
   ],
   "source": [
    "mt = db_from.texts.find_one()\n",
    "del mt['text'] # just for display\n",
    "print('BEFORE:')\n",
    "display(mt)\n",
    "print('\\nAFTER:')\n",
    "mtu = update_text(mt)\n",
    "display(mtu)\n",
    "print('\\nURL in the new database?')\n",
    "display(db_to.urls.find_one({'_id': mtu['urls'][0]}))"
   ]
  },
  {
   "cell_type": "markdown",
   "metadata": {},
   "source": [
    "Do the deed"
   ]
  },
  {
   "cell_type": "code",
   "execution_count": 15,
   "metadata": {},
   "outputs": [
    {
     "name": "stdout",
     "output_type": "stream",
     "text": [
      "Done. Inserted 66123 records. 0 errors.\n",
      "CPU times: user 2.24 s, sys: 825 ms, total: 3.07 s\n",
      "Wall time: 5.94 s\n"
     ]
    }
   ],
   "source": [
    "%%time\n",
    "\n",
    "added, errors = migrate(db_from, db_to, 'texts', update_text)"
   ]
  },
  {
   "cell_type": "markdown",
   "metadata": {},
   "source": [
    "# Copy the rest"
   ]
  },
  {
   "cell_type": "code",
   "execution_count": 16,
   "metadata": {},
   "outputs": [
    {
     "name": "stdout",
     "output_type": "stream",
     "text": [
      "migrating sentences\n",
      "Done. Inserted 199886 records. 0 errors.\n",
      "migrating users\n",
      "Done. Inserted 1 records. 0 errors.\n"
     ]
    }
   ],
   "source": [
    "for coll in ['sentences', 'users']:\n",
    "    print('migrating', coll)\n",
    "    migrate(db_from, db_to, coll, lambda t: t)"
   ]
  },
  {
   "cell_type": "markdown",
   "metadata": {},
   "source": [
    "# Check counts"
   ]
  },
  {
   "cell_type": "code",
   "execution_count": 17,
   "metadata": {},
   "outputs": [
    {
     "name": "stdout",
     "output_type": "stream",
     "text": [
      " blacklist            ok: 438227\n",
      " texts                ok: 66123\n",
      " urls                 ok: 736448\n",
      " sentences            ok: 199886\n",
      " users                ok: 1\n"
     ]
    }
   ],
   "source": [
    "for coll in db_from.list_collection_names():\n",
    "    f = db_from[coll].count_documents({})\n",
    "    t = db_to[coll].count_documents({})\n",
    "    print(f' {coll:20s}', end=' ')\n",
    "    if f != t:\n",
    "        print(f'!!! ERROR !!!! {f} != {t}')\n",
    "    else:\n",
    "        print(f'ok: {t}')"
   ]
  }
 ],
 "metadata": {
  "kernelspec": {
   "display_name": "swisstext",
   "language": "python",
   "name": "swisstext"
  },
  "language_info": {
   "codemirror_mode": {
    "name": "ipython",
    "version": 3
   },
   "file_extension": ".py",
   "mimetype": "text/x-python",
   "name": "python",
   "nbconvert_exporter": "python",
   "pygments_lexer": "ipython3",
   "version": "3.7.4"
  }
 },
 "nbformat": 4,
 "nbformat_minor": 2
}
